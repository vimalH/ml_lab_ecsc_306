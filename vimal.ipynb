{
 "cells": [
  {
   "cell_type": "code",
   "execution_count": null,
   "metadata": {
    "collapsed": true
   },
   "outputs": [],
   "source": []
  },
  {
   "cell_type": "code",
   "execution_count": 2,
   "metadata": {},
   "outputs": [
    {
     "name": "stdout",
     "output_type": "stream",
     "text": [
      "1\n"
     ]
    }
   ],
   "source": [
    "import tensorflow as tf\n",
    "#(a-b)^2=a^2+b^2-2ab\n",
    "#let conder the values \n",
    "a=6\n",
    "b=7\n",
    "\n",
    "with tf.name_scope(\"Lab_Assignment_1\"):\n",
    "    with tf.name_scope(\"a\"):\n",
    "        w = tf.multiply(a,a)\n",
    "        x = tf.multiply(b,b) \n",
    "    with tf.name_scope(\"b\"):\n",
    "        y = tf.multiply(2,a)\n",
    "        z = tf.multiply(y,b)\n",
    "        \n",
    "with tf.name_scope(\"c\"):\n",
    "        r1 = tf.add(w,x)\n",
    "        res = tf.subtract(r1,z)\n",
    "        \n",
    "\n",
    "with tf.Session() as sess:\n",
    "    writer = tf.summary.FileWriter(\"/tmp/tboard/output3_VimalH\",sess.graph)\n",
    "    print(sess.run(res))\n",
    "    writer.close()\n",
    "        "
   ]
  },
  {
   "cell_type": "code",
   "execution_count": null,
   "metadata": {
    "collapsed": true
   },
   "outputs": [],
   "source": []
  },
  {
   "cell_type": "code",
   "execution_count": null,
   "metadata": {
    "collapsed": true
   },
   "outputs": [],
   "source": []
  },
  {
   "cell_type": "code",
   "execution_count": null,
   "metadata": {
    "collapsed": true
   },
   "outputs": [],
   "source": []
  },
  {
   "cell_type": "code",
   "execution_count": 3,
   "metadata": {},
   "outputs": [
    {
     "name": "stdout",
     "output_type": "stream",
     "text": [
      "49\n"
     ]
    }
   ],
   "source": [
    "#(a-b-c)^2=a^2+b^2+c^2-2ab-2bc-2ca\n",
    "#let conder the values \n",
    "a=6\n",
    "b=7\n",
    "c=8\n",
    "\n",
    "with tf.name_scope(\"Lab_Assignment_2\"):\n",
    "    with tf.name_scope(\"a\"):\n",
    "        r = tf.multiply(a,a)\n",
    "        s = tf.multiply(b,b) \n",
    "        t = tf.multiply(c,c) \n",
    "    with tf.name_scope(\"b\"):\n",
    "        u1 = tf.multiply(2,a)\n",
    "        res1 = tf.multiply(u1,b)\n",
    "    with tf.name_scope(\"c\"):\n",
    "        u2 = tf.multiply(2,b)\n",
    "        res2 = tf.multiply(u2,c)\n",
    "    with tf.name_scope(\"d\"):\n",
    "        u3 = tf.multiply(2,c)\n",
    "        res3 = tf.multiply(u3,a)\n",
    "        \n",
    "with tf.name_scope(\"e\"):\n",
    "        r1 = tf.add(r,s)\n",
    "        r2 = tf.add(r1,t)\n",
    "        final1= tf.subtract(r2,res1)\n",
    "        final2= tf.subtract(final1,res2)\n",
    "        finalresult= tf.add(final2,res3)\n",
    "\n",
    "with tf.Session() as sess:\n",
    "    writer = tf.summary.FileWriter(\"/tmp/tboard/output3_vimal\",sess.graph)\n",
    "    print(sess.run(finalresult))\n",
    "    writer.close()\n",
    "        "
   ]
  },
  {
   "cell_type": "code",
   "execution_count": null,
   "metadata": {
    "collapsed": true
   },
   "outputs": [],
   "source": []
  }
 ],
 "metadata": {
  "kernelspec": {
   "display_name": "Python 3",
   "language": "python",
   "name": "python3"
  },
  "language_info": {
   "codemirror_mode": {
    "name": "ipython",
    "version": 3
   },
   "file_extension": ".py",
   "mimetype": "text/x-python",
   "name": "python",
   "nbconvert_exporter": "python",
   "pygments_lexer": "ipython3",
   "version": "3.6.1"
  }
 },
 "nbformat": 4,
 "nbformat_minor": 2
}
